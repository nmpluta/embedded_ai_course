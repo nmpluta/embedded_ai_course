{
  "cells": [
    {
      "cell_type": "markdown",
      "metadata": {
        "id": "ZKsWgnbzx0J3"
      },
      "source": [
        "# Introduction to PyTorch\n",
        "\n",
        "This tutorial shows the basics of PyTorch library.\n",
        "\n",
        "We design simple Neural Networks for classification task on MNIST dataset.\n",
        "\n",
        "Necessary knowledge you can find in PyTorch documentation:\n",
        "\n",
        "https://pytorch.org/docs/stable/index.html\n",
        "\n",
        "and tutorials:\n",
        "\n",
        "https://pytorch.org/tutorials/beginner/basics/quickstart_tutorial.html"
      ]
    },
    {
      "cell_type": "code",
      "execution_count": 83,
      "metadata": {
        "id": "KDHyVn_Ux0KW",
        "colab": {
          "base_uri": "https://localhost:8080/"
        },
        "outputId": "a43855cf-98c5-4991-acc3-0d04ba9d0248"
      },
      "outputs": [
        {
          "output_type": "stream",
          "name": "stdout",
          "text": [
            "mkdir: cannot create directory ‘data’: File exists\n"
          ]
        }
      ],
      "source": [
        "!mkdir data"
      ]
    },
    {
      "cell_type": "markdown",
      "metadata": {
        "id": "oIsMVmIzx0Kn"
      },
      "source": [
        "1. PyTorch is based on tensor operations.\n",
        "Please create tensors in the following ways:\n",
        "- directly with python list\n",
        "- from `numpy`\n",
        "- with random values (initialize generator with your academic id / student number from USOS system)\n",
        "- linear space in range from -5 to 15 and number of elements.\n",
        "- 3 tensors with indices of each element of grid for dimensions: 1, 2, 3 (without 0-th - basically is a batch dim)\n",
        "\n",
        "For all cases use `shape = (1, 3, 28, 28)`.\n",
        "\n",
        "For display use `print` function."
      ]
    },
    {
      "cell_type": "code",
      "execution_count": 84,
      "metadata": {
        "colab": {
          "base_uri": "https://localhost:8080/"
        },
        "id": "2x6mVqtDx0Kw",
        "outputId": "b37abbcc-5ce5-4e13-a93a-d09b6f981883"
      },
      "outputs": [
        {
          "output_type": "stream",
          "name": "stdout",
          "text": [
            "Requirement already satisfied: torch in /usr/local/lib/python3.10/dist-packages (2.0.1+cu118)\n",
            "Requirement already satisfied: torchvision in /usr/local/lib/python3.10/dist-packages (0.15.2+cu118)\n",
            "Requirement already satisfied: filelock in /usr/local/lib/python3.10/dist-packages (from torch) (3.12.2)\n",
            "Requirement already satisfied: typing-extensions in /usr/local/lib/python3.10/dist-packages (from torch) (4.6.3)\n",
            "Requirement already satisfied: sympy in /usr/local/lib/python3.10/dist-packages (from torch) (1.11.1)\n",
            "Requirement already satisfied: networkx in /usr/local/lib/python3.10/dist-packages (from torch) (3.1)\n",
            "Requirement already satisfied: jinja2 in /usr/local/lib/python3.10/dist-packages (from torch) (3.1.2)\n",
            "Requirement already satisfied: triton==2.0.0 in /usr/local/lib/python3.10/dist-packages (from torch) (2.0.0)\n",
            "Requirement already satisfied: cmake in /usr/local/lib/python3.10/dist-packages (from triton==2.0.0->torch) (3.25.2)\n",
            "Requirement already satisfied: lit in /usr/local/lib/python3.10/dist-packages (from triton==2.0.0->torch) (16.0.6)\n",
            "Requirement already satisfied: numpy in /usr/local/lib/python3.10/dist-packages (from torchvision) (1.22.4)\n",
            "Requirement already satisfied: requests in /usr/local/lib/python3.10/dist-packages (from torchvision) (2.27.1)\n",
            "Requirement already satisfied: pillow!=8.3.*,>=5.3.0 in /usr/local/lib/python3.10/dist-packages (from torchvision) (8.4.0)\n",
            "Requirement already satisfied: MarkupSafe>=2.0 in /usr/local/lib/python3.10/dist-packages (from jinja2->torch) (2.1.3)\n",
            "Requirement already satisfied: urllib3<1.27,>=1.21.1 in /usr/local/lib/python3.10/dist-packages (from requests->torchvision) (1.26.16)\n",
            "Requirement already satisfied: certifi>=2017.4.17 in /usr/local/lib/python3.10/dist-packages (from requests->torchvision) (2023.5.7)\n",
            "Requirement already satisfied: charset-normalizer~=2.0.0 in /usr/local/lib/python3.10/dist-packages (from requests->torchvision) (2.0.12)\n",
            "Requirement already satisfied: idna<4,>=2.5 in /usr/local/lib/python3.10/dist-packages (from requests->torchvision) (3.4)\n",
            "Requirement already satisfied: mpmath>=0.19 in /usr/local/lib/python3.10/dist-packages (from sympy->torch) (1.3.0)\n"
          ]
        }
      ],
      "source": [
        "! pip3 install torch torchvision"
      ]
    },
    {
      "cell_type": "code",
      "execution_count": 85,
      "metadata": {
        "colab": {
          "base_uri": "https://localhost:8080/"
        },
        "id": "hVGzYWz9x0K8",
        "outputId": "7ed80f95-95da-417a-b3c8-dd87eee421c7"
      },
      "outputs": [
        {
          "output_type": "stream",
          "name": "stdout",
          "text": [
            "torch.Size([1, 3, 28, 28])\n",
            "tensor([[[[0, 0, 0,  ..., 0, 0, 0],\n",
            "          [0, 0, 0,  ..., 0, 0, 0],\n",
            "          [0, 0, 0,  ..., 0, 0, 0],\n",
            "          ...,\n",
            "          [0, 0, 0,  ..., 0, 0, 0],\n",
            "          [0, 0, 0,  ..., 0, 0, 0],\n",
            "          [0, 0, 0,  ..., 0, 0, 0]],\n",
            "\n",
            "         [[0, 0, 0,  ..., 0, 0, 0],\n",
            "          [0, 0, 0,  ..., 0, 0, 0],\n",
            "          [0, 0, 0,  ..., 0, 0, 0],\n",
            "          ...,\n",
            "          [0, 0, 0,  ..., 0, 0, 0],\n",
            "          [0, 0, 0,  ..., 0, 0, 0],\n",
            "          [0, 0, 0,  ..., 0, 0, 0]],\n",
            "\n",
            "         [[0, 0, 0,  ..., 0, 0, 0],\n",
            "          [0, 0, 0,  ..., 0, 0, 0],\n",
            "          [0, 0, 0,  ..., 0, 0, 0],\n",
            "          ...,\n",
            "          [0, 0, 0,  ..., 0, 0, 0],\n",
            "          [0, 0, 0,  ..., 0, 0, 0],\n",
            "          [0, 0, 0,  ..., 0, 0, 0]]]])\n",
            "torch.Size([1, 3, 28, 28])\n",
            "tensor([[[[0., 0., 0.,  ..., 0., 0., 0.],\n",
            "          [0., 0., 0.,  ..., 0., 0., 0.],\n",
            "          [0., 0., 0.,  ..., 0., 0., 0.],\n",
            "          ...,\n",
            "          [0., 0., 0.,  ..., 0., 0., 0.],\n",
            "          [0., 0., 0.,  ..., 0., 0., 0.],\n",
            "          [0., 0., 0.,  ..., 0., 0., 0.]],\n",
            "\n",
            "         [[0., 0., 0.,  ..., 0., 0., 0.],\n",
            "          [0., 0., 0.,  ..., 0., 0., 0.],\n",
            "          [0., 0., 0.,  ..., 0., 0., 0.],\n",
            "          ...,\n",
            "          [0., 0., 0.,  ..., 0., 0., 0.],\n",
            "          [0., 0., 0.,  ..., 0., 0., 0.],\n",
            "          [0., 0., 0.,  ..., 0., 0., 0.]],\n",
            "\n",
            "         [[0., 0., 0.,  ..., 0., 0., 0.],\n",
            "          [0., 0., 0.,  ..., 0., 0., 0.],\n",
            "          [0., 0., 0.,  ..., 0., 0., 0.],\n",
            "          ...,\n",
            "          [0., 0., 0.,  ..., 0., 0., 0.],\n",
            "          [0., 0., 0.,  ..., 0., 0., 0.],\n",
            "          [0., 0., 0.,  ..., 0., 0., 0.]]]], dtype=torch.float64)\n",
            "torch.Size([1, 3, 28, 28])\n",
            "tensor([[[[0.5389, 0.8178, 0.1956,  ..., 0.6018, 0.1462, 0.6542],\n",
            "          [0.3266, 0.9585, 0.9630,  ..., 0.4638, 0.8265, 0.2978],\n",
            "          [0.3060, 0.0022, 0.1631,  ..., 0.4963, 0.3760, 0.6156],\n",
            "          ...,\n",
            "          [0.6495, 0.6835, 0.5272,  ..., 0.7033, 0.4637, 0.5028],\n",
            "          [0.0301, 0.1067, 0.0661,  ..., 0.9297, 0.6787, 0.1752],\n",
            "          [0.8917, 0.6180, 0.0697,  ..., 0.0039, 0.5209, 0.9768]],\n",
            "\n",
            "         [[0.2352, 0.3270, 0.9055,  ..., 0.5974, 0.5980, 0.3926],\n",
            "          [0.9220, 0.2772, 0.9265,  ..., 0.9981, 0.6597, 0.3836],\n",
            "          [0.2448, 0.9851, 0.8697,  ..., 0.5686, 0.7352, 0.6927],\n",
            "          ...,\n",
            "          [0.7748, 0.3168, 0.5081,  ..., 0.9442, 0.6857, 0.9511],\n",
            "          [0.0468, 0.6029, 0.0625,  ..., 0.3296, 0.0653, 0.3385],\n",
            "          [0.3348, 0.1623, 0.2582,  ..., 0.5958, 0.4132, 0.7033]],\n",
            "\n",
            "         [[0.1060, 0.2939, 0.1196,  ..., 0.1147, 0.7853, 0.7544],\n",
            "          [0.9309, 0.0021, 0.7944,  ..., 0.3735, 0.8509, 0.6679],\n",
            "          [0.8476, 0.4960, 0.9145,  ..., 0.3763, 0.7970, 0.7212],\n",
            "          ...,\n",
            "          [0.9593, 0.0628, 0.8793,  ..., 0.6691, 0.8343, 0.1974],\n",
            "          [0.8198, 0.8139, 0.9067,  ..., 0.3030, 0.7948, 0.1131],\n",
            "          [0.9037, 0.5433, 0.5380,  ..., 0.7724, 0.4032, 0.6154]]]])\n",
            "torch.Size([1, 3, 28, 28])\n",
            "tensor([[[[-5.0000, -4.9915, -4.9830,  ..., -4.7873, -4.7788, -4.7703],\n",
            "          [-4.7618, -4.7533, -4.7448,  ..., -4.5491, -4.5406, -4.5321],\n",
            "          [-4.5236, -4.5151, -4.5066,  ..., -4.3109, -4.3024, -4.2939],\n",
            "          ...,\n",
            "          [ 0.9549,  0.9634,  0.9719,  ...,  1.1676,  1.1761,  1.1846],\n",
            "          [ 1.1931,  1.2016,  1.2101,  ...,  1.4058,  1.4143,  1.4228],\n",
            "          [ 1.4313,  1.4398,  1.4483,  ...,  1.6440,  1.6525,  1.6610]],\n",
            "\n",
            "         [[ 1.6695,  1.6780,  1.6865,  ...,  1.8822,  1.8907,  1.8992],\n",
            "          [ 1.9077,  1.9162,  1.9247,  ...,  2.1204,  2.1289,  2.1374],\n",
            "          [ 2.1459,  2.1544,  2.1629,  ...,  2.3586,  2.3671,  2.3756],\n",
            "          ...,\n",
            "          [ 7.6244,  7.6329,  7.6414,  ...,  7.8371,  7.8456,  7.8541],\n",
            "          [ 7.8626,  7.8711,  7.8796,  ...,  8.0753,  8.0838,  8.0923],\n",
            "          [ 8.1008,  8.1093,  8.1178,  ...,  8.3135,  8.3220,  8.3305]],\n",
            "\n",
            "         [[ 8.3390,  8.3475,  8.3560,  ...,  8.5517,  8.5602,  8.5687],\n",
            "          [ 8.5772,  8.5857,  8.5942,  ...,  8.7899,  8.7984,  8.8069],\n",
            "          [ 8.8154,  8.8239,  8.8324,  ...,  9.0281,  9.0366,  9.0451],\n",
            "          ...,\n",
            "          [14.2939, 14.3024, 14.3109,  ..., 14.5066, 14.5151, 14.5236],\n",
            "          [14.5321, 14.5406, 14.5491,  ..., 14.7448, 14.7533, 14.7618],\n",
            "          [14.7703, 14.7788, 14.7873,  ..., 14.9830, 14.9915, 15.0000]]]])\n",
            "torch.Size([3, 1, 1])\n",
            "tensor([[[0]],\n",
            "\n",
            "        [[1]],\n",
            "\n",
            "        [[2]]])\n",
            "torch.Size([1, 28, 1])\n",
            "tensor([[[ 0],\n",
            "         [ 1],\n",
            "         [ 2],\n",
            "         [ 3],\n",
            "         [ 4],\n",
            "         [ 5],\n",
            "         [ 6],\n",
            "         [ 7],\n",
            "         [ 8],\n",
            "         [ 9],\n",
            "         [10],\n",
            "         [11],\n",
            "         [12],\n",
            "         [13],\n",
            "         [14],\n",
            "         [15],\n",
            "         [16],\n",
            "         [17],\n",
            "         [18],\n",
            "         [19],\n",
            "         [20],\n",
            "         [21],\n",
            "         [22],\n",
            "         [23],\n",
            "         [24],\n",
            "         [25],\n",
            "         [26],\n",
            "         [27]]])\n",
            "torch.Size([1, 1, 28])\n",
            "tensor([[[ 0,  1,  2,  3,  4,  5,  6,  7,  8,  9, 10, 11, 12, 13, 14, 15, 16,\n",
            "          17, 18, 19, 20, 21, 22, 23, 24, 25, 26, 27]]])\n"
          ]
        }
      ],
      "source": [
        "import torch\n",
        "import numpy as np\n",
        "# # For all cases use `shape = (1, 3, 28, 28)`. create tensors in the following ways:\n",
        "# - directly with python list\n",
        "t = torch.tensor([[[[0] * 28] * 28] * 3] * 1)\n",
        "print(t.shape)\n",
        "print(t)\n",
        "\n",
        "# - from `numpy`\n",
        "t = torch.from_numpy(np.zeros((1, 3, 28, 28)))\n",
        "print(t.shape)\n",
        "print(t)\n",
        "\n",
        "# - with random values (initialize generator with your academic id - 303788\n",
        "generator = torch.Generator().manual_seed(303788)\n",
        "t = torch.rand((1, 3, 28, 28), generator=generator)\n",
        "print(t.shape)\n",
        "print(t)\n",
        "\n",
        "# - linear space in range from -5 to 15 and number of elements - shape (1, 3, 28, 28)\n",
        "t = torch.linspace(-5, 15, 1 * 3 * 28 * 28).reshape((1, 3, 28, 28))\n",
        "print(t.shape)\n",
        "print(t)\n",
        "\n",
        "# - 3 tensors with indices of each element of grid for dimensions: 1, 2, 3 (without 0-th - basically is a batch dim)\n",
        "# grid shape excluding batch dim: 3, 28, 28\n",
        "grid_shape = (3, 28, 28)\n",
        "indicies_0 = torch.arange(grid_shape[0]).reshape((grid_shape[0], 1, 1))\n",
        "print(indicies_0.shape)\n",
        "print(indicies_0)\n",
        "indicies_1 = torch.arange(grid_shape[1]).reshape((1, grid_shape[1], 1))\n",
        "print(indicies_1.shape)\n",
        "print(indicies_1)\n",
        "indicies_2 = torch.arange(grid_shape[2]).reshape((1, 1, grid_shape[2]))\n",
        "print(indicies_2.shape)\n",
        "print(indicies_2)\n"
      ]
    },
    {
      "cell_type": "markdown",
      "metadata": {
        "id": "l7i66MJ1x0LM"
      },
      "source": [
        "2. PyTorch allow for applying GPU for computations.\n",
        "Check is gpu (CUDA) is available, then use it as `device`, else use `'cpu'`."
      ]
    },
    {
      "cell_type": "code",
      "execution_count": 86,
      "metadata": {
        "colab": {
          "base_uri": "https://localhost:8080/"
        },
        "id": "wyRqyeCPx0LU",
        "outputId": "d932f2d0-0e1e-4f09-d375-d8cbe5410394"
      },
      "outputs": [
        {
          "output_type": "stream",
          "name": "stdout",
          "text": [
            "cuda\n"
          ]
        }
      ],
      "source": [
        "device = torch.device(\"cuda\" if torch.cuda.is_available() else \"cpu\")\n",
        "print(device)"
      ]
    },
    {
      "cell_type": "markdown",
      "metadata": {
        "id": "khM-Ebisx0Ld"
      },
      "source": [
        "3. To train a networks we need a dataset.\n",
        "\n",
        "Please download `MINIST` dataset with `torchvision.dataset`.\n",
        "\n",
        "For any kind of ML task, validation or testing is required.\n",
        "\n",
        "So, create train and test datasets.\n",
        "\n",
        "For train dataset apply also augmentation transforms, crop, translation and rotation.\n",
        "\n",
        "You can try to apply different transforms.\n",
        "\n",
        "For both apply ToTensor.\n",
        "\n",
        "Next, pack datasets into `DataLoader`s with batch size of 64.\n",
        "Use variables with names: `train_loader` and `test_loader`.\n",
        "\n",
        "Next display sizes of datasets, shapes of elements and display few images and their labels."
      ]
    },
    {
      "cell_type": "code",
      "execution_count": 87,
      "metadata": {
        "colab": {
          "base_uri": "https://localhost:8080/",
          "height": 1000
        },
        "id": "AN4rolIRx0Lm",
        "outputId": "eacbe50d-61f7-435f-88fc-1b37c5949455"
      },
      "outputs": [
        {
          "output_type": "stream",
          "name": "stdout",
          "text": [
            "Train dataset size: 60000\n"
          ]
        },
        {
          "output_type": "display_data",
          "data": {
            "text/plain": [
              "<Figure size 640x480 with 1 Axes>"
            ],
            "image/png": "[encoded data removed]"
          },
          "metadata": {}
        },
        {
          "output_type": "display_data",
          "data": {
            "text/plain": [
              "<Figure size 640x480 with 1 Axes>"
            ],
            "image/png": "[encoded data removed]"
          },
          "metadata": {}
        },
        {
          "output_type": "display_data",
          "data": {
            "text/plain": [
              "<Figure size 640x480 with 1 Axes>"
            ],
            "image/png": "[encoded data removed]"
          },
          "metadata": {}
        },
        {
          "output_type": "stream",
          "name": "stdout",
          "text": [
            "Test dataset size: 10000\n"
          ]
        },
        {
          "output_type": "display_data",
          "data": {
            "text/plain": [
              "<Figure size 640x480 with 1 Axes>"
            ],
            "image/png": "[encoded data removed]"
          },
          "metadata": {}
        },
        {
          "output_type": "display_data",
          "data": {
            "text/plain": [
              "<Figure size 640x480 with 1 Axes>"
            ],
            "image/png": "[encoded data removed]"
          },
          "metadata": {}
        },
        {
          "output_type": "display_data",
          "data": {
            "text/plain": [
              "<Figure size 640x480 with 1 Axes>"
            ],
            "image/png": "[encoded data removed]"
          },
          "metadata": {}
        }
      ],
      "source": [
        "import torch\n",
        "from torch.utils.data import DataLoader\n",
        "from torchvision import datasets\n",
        "from torchvision.transforms import ToTensor\n",
        "import matplotlib.pyplot as plt\n",
        "\n",
        "#image datasets\n",
        "train_dataset = datasets.MNIST(root='data', train=True, download=True, transform=ToTensor())\n",
        "test_dataset  = datasets.MNIST(root='data', train=False, download=True, transform=ToTensor())\n",
        "\n",
        "batchsize = 64\n",
        "#data loaders\n",
        "train_loader = DataLoader(dataset=train_dataset, batch_size=batchsize, shuffle=True)\n",
        "test_loader  = DataLoader(dataset=test_dataset, batch_size=batchsize, shuffle=False)\n",
        "\n",
        "print(f\"Train dataset size: {len(train_dataset)}\")\n",
        "for i in range(3):\n",
        "    shape = train_dataset[i][0].shape\n",
        "    image, label = train_dataset[i]\n",
        "    plt.imshow(image.squeeze(0), cmap='gray')\n",
        "    plt.title(f\"Label: {label},\\n shape = {shape}\")\n",
        "    plt.show()\n",
        "\n",
        "print(f\"Test dataset size: {len(test_dataset)}\")\n",
        "for i in range(3):\n",
        "    shape = test_dataset[i][0].shape\n",
        "    image, label = test_dataset[i]\n",
        "    plt.imshow(image.squeeze(0), cmap='gray')\n",
        "    plt.title(f\"Label: {label},\\n shape = {shape}\")\n",
        "    plt.show()\n"
      ]
    },
    {
      "cell_type": "markdown",
      "metadata": {
        "id": "3P4yJWh0x0L5"
      },
      "source": [
        "4. `*`Additionally, you can prepare analysis of datasets.\n",
        "\n",
        "E.g. statistics like mean and variance of all elements, for each label.\n",
        "\n",
        "Analysis can allow you for designing better network architecture."
      ]
    },
    {
      "cell_type": "code",
      "execution_count": 88,
      "metadata": {
        "colab": {
          "base_uri": "https://localhost:8080/"
        },
        "id": "Ykb_JuvMx0MA",
        "outputId": "837cde3c-aaf8-434d-c97b-f986fa5f27ed"
      },
      "outputs": [
        {
          "output_type": "stream",
          "name": "stdout",
          "text": [
            "Analysis of train dataset\n",
            "Images shape: torch.Size([64, 1, 28, 28])\n",
            "Labels shape: torch.Size([64])\n",
            "Images mean: 0.136639803647995\n",
            "Images std: 0.31403735280036926\n",
            "Labels mean: 3.921875\n",
            "Labels std: 2.9239280223846436\n",
            "Analysis of test dataset\n",
            "Images shape: torch.Size([64, 1, 28, 28])\n",
            "Labels shape: torch.Size([64])\n",
            "Images mean: 0.1321709156036377\n",
            "Images std: 0.3104514479637146\n",
            "Labels mean: 4.34375\n",
            "Labels std: 2.9071271419525146\n"
          ]
        }
      ],
      "source": [
        "# prepare analysis of datasets.\n",
        "# E.g. statistics like mean and variance of all elements, for each label.\n",
        "dataset_names = ['train', 'test']\n",
        "for dataset_name, dataset in zip(dataset_names, [train_dataset, test_dataset]):\n",
        "    print(f\"Analysis of {dataset_name} dataset\")\n",
        "    for images, labels in train_loader:\n",
        "        print(f\"Images shape: {images.shape}\")\n",
        "        print(f\"Labels shape: {labels.shape}\")\n",
        "        print(f\"Images mean: {images.mean()}\")\n",
        "        print(f\"Images std: {images.std()}\")\n",
        "        print(f\"Labels mean: {labels.float().mean()}\")\n",
        "        print(f\"Labels std: {labels.float().std()}\")\n",
        "        break"
      ]
    },
    {
      "cell_type": "markdown",
      "metadata": {
        "id": "LBgMzYPUx0MK"
      },
      "source": [
        "5. When we have datasets, so we can create model for classification task.\n",
        "\n",
        "Please, define class `MLP` as Multi Layer Perceptron\n",
        "\n",
        "with two hidden fully connected layers with bias.\n",
        "\n",
        "Class must inherits from `torch.nn.Module`.\n",
        "\n",
        "Apply following configuration:\n",
        "\n",
        "- first with 512 neurons,\n",
        "- second with 512 neurons,\n",
        "- output layer adjust to size of classification problem.\n",
        "\n",
        "For `__init__` method add parameters: input_shape and output_size.\n",
        "\n",
        "Don't forget about nonlinearities!\n",
        "\n",
        "For hidden layers you can use `ReLU` module from `torch.nn`.\n",
        "\n",
        "For output apply softmax function.\n",
        "\n",
        "Network layer-by-layer processing define in `forward` method with argument as a network\n",
        "\n",
        "input tensor - batch of images with shape (batch_size, channels, height, width).\n",
        "(channels = 1, for gray scale images)\n",
        "\n",
        "Instantiate model as `net` object.\n"
      ]
    },
    {
      "cell_type": "code",
      "execution_count": null,
      "metadata": {
        "id": "mkYSZv89x0Ma"
      },
      "outputs": [],
      "source": [
        "class MLP(torch.nn.Module):\n",
        "\n",
        "    def __init__(self, input_shape, output_shape) -> None:\n",
        "        super().__init__()\n",
        "\n",
        "        input_size = np.prod(input_shape)\n",
        "\n",
        "        # define layers\n",
        "        self.fc1 = torch.nn.Linear(input_size, 512)\n",
        "        self.relu1 = torch.nn.ReLU()\n",
        "        self.fc2 = torch.nn.Linear(512, 512)\n",
        "        self.relu2 = torch.nn.ReLU()\n",
        "        self.fc3 = torch.nn.Linear(512, output_shape)\n",
        "        self.softmax = torch.nn.Softmax(dim=1)\n",
        "\n",
        "    def forward(self, x: torch.Tensor) -> torch.Tensor:\n",
        "        x = x.view(x.size(0), -1)\n",
        "        x = self.fc1(x)\n",
        "        x = self.relu1(x)\n",
        "        x = self.fc2(x)\n",
        "        x = self.relu2(x)\n",
        "        x = self.fc3(x)\n",
        "        x = self.softmax(x)\n",
        "        return x\n",
        "\n",
        "net = MLP(input_shape=(1, 28, 28), output_shape=10)"
      ]
    },
    {
      "cell_type": "markdown",
      "metadata": {
        "id": "VhYBkSP3x0Mf"
      },
      "source": [
        "6. To train network we need to know 'how good or bad' results it gives.\n",
        "Please, instantiate `torch.nn.CrossEntropyLoss` as `loss_fcn`."
      ]
    },
    {
      "cell_type": "code",
      "execution_count": 89,
      "metadata": {
        "id": "lr4Va7AEx0Mk"
      },
      "outputs": [],
      "source": [
        "loss_fcn = torch.nn.CrossEntropyLoss()"
      ]
    },
    {
      "cell_type": "markdown",
      "metadata": {
        "id": "XRtrT9dOx0Mq"
      },
      "source": [
        "7. To score network define accuracy metric.\n",
        "For network output you need to decide what is the final network answer.\n",
        "(`argmax`).\n",
        "\n",
        "`torch.no_grad()` prevents gradient requirement for computations inside method."
      ]
    },
    {
      "cell_type": "code",
      "execution_count": 90,
      "metadata": {
        "id": "Iy9-luZXx0Mt"
      },
      "outputs": [],
      "source": [
        "from abc import ABC, abstractmethod\n",
        "from typing import Any\n",
        "\n",
        "\n",
        "class BaseMetic(ABC):\n",
        "\n",
        "    @abstractmethod\n",
        "    def __call__(self, y_pred, y_ref) -> Any:\n",
        "        raise NotImplementedError()\n",
        "\n",
        "\n",
        "class AccuracyMetic(BaseMetic):\n",
        "\n",
        "    def __init__(self) -> None:\n",
        "        pass\n",
        "\n",
        "    @torch.no_grad()\n",
        "    def __call__(self, y_pred: torch.Tensor, y_ref: torch.Tensor) -> torch.Tensor:\n",
        "        \"\"\"\n",
        "        :param y_pred: tensor of shape (batch_size, num_of_classes) type float\n",
        "        :param y_ref: tensor with shape (batch_size,) and type Long\n",
        "        :return: scalar tensor with accuracy metric for batch\n",
        "        \"\"\"\n",
        "        predicted_labels = torch.argmax(y_pred, dim=1)\n",
        "        correct = (predicted_labels == y_ref).sum().item()\n",
        "\n",
        "        # scalar value - tensor\n",
        "        score: torch.Tensor = torch.tensor(correct / len(y_ref))\n",
        "        return score\n",
        "\n",
        "\n",
        "metric = AccuracyMetic()"
      ]
    },
    {
      "cell_type": "markdown",
      "metadata": {
        "id": "nSys-0Lax0My"
      },
      "source": [
        "8. To change network parameters, we need optimizers object.\n",
        "Instantiate `torch.optim.SGD` (with `net`work parameters) as `optimizer`.\n",
        "Use learning rate = 0.001"
      ]
    },
    {
      "cell_type": "markdown",
      "source": [
        "UPDATE: 28 June\n",
        "Try higher learning rate = 0.01"
      ],
      "metadata": {
        "id": "CDk6zJ_q8-hf"
      }
    },
    {
      "cell_type": "code",
      "execution_count": 91,
      "metadata": {
        "id": "N5hIcVbSx0M1"
      },
      "outputs": [],
      "source": [
        "# optimizer = torch.optim.SGD(net.parameters(), lr=0.001)\n",
        "optimizer = torch.optim.SGD(net.parameters(), lr=0.01)"
      ]
    },
    {
      "cell_type": "markdown",
      "metadata": {
        "id": "5STWcA-Jx0M6"
      },
      "source": [
        "9. Now define training / testing function:"
      ]
    },
    {
      "cell_type": "code",
      "execution_count": 75,
      "metadata": {
        "id": "_Z92ZadDx0M9"
      },
      "outputs": [],
      "source": [
        "from typing import Tuple\n",
        "import tqdm\n",
        "\n",
        "\n",
        "def train(model,\n",
        "          data_generator,\n",
        "          criterion,\n",
        "          metric: BaseMetic,\n",
        "          mode: str = 'test',\n",
        "          optimizer: torch.optim.Optimizer = None,\n",
        "          update_period: int = None,\n",
        "          device = torch.device('cpu')) -> Tuple[torch.nn.Module, float, float]:\n",
        "\n",
        "    # change model mode to train or test\n",
        "    if mode == 'train':\n",
        "        model.train()\n",
        "\n",
        "    elif mode == 'test':\n",
        "        model.eval()\n",
        "\n",
        "    else:\n",
        "        raise RuntimeError(\"Unsupported mode.\")\n",
        "\n",
        "    # move model to device\n",
        "    model.to(device)\n",
        "\n",
        "    # reset model parameters' gradients with optimizer\n",
        "    if mode == 'train':\n",
        "        optimizer.zero_grad()\n",
        "\n",
        "    total_loss = 0.0\n",
        "    total_accuracy = 0.0\n",
        "    samples_num = 0\n",
        "\n",
        "    # disable the progress and iterator (to enable set disable=False)\n",
        "    for i, (X, y) in tqdm.tqdm(enumerate(data_generator), disable=True):\n",
        "        # convert tensors to device\n",
        "        X = X.to(device)\n",
        "        y = y.to(device)\n",
        "\n",
        "        # depending on mode use or not torch.no_grad() as 'with' block\n",
        "        with torch.no_grad() if mode == 'test' else torch.enable_grad():\n",
        "            # process by network\n",
        "            y_pred = model(X)\n",
        "\n",
        "            # calculate loss\n",
        "            loss = criterion(y_pred, y)\n",
        "\n",
        "        if mode == 'train':\n",
        "            # designate gradient based on loss\n",
        "            loss.backward()\n",
        "\n",
        "        if mode == 'train' and (i+1) % update_period == 0:\n",
        "            # update parameters with optimizer\n",
        "            optimizer.step()\n",
        "            optimizer.zero_grad()\n",
        "\n",
        "        # calculate accuracy\n",
        "        accuracy = metric(y_pred, y)\n",
        "\n",
        "        total_loss += loss.item() * y_pred.shape[0]\n",
        "        total_accuracy += accuracy.item() * y_pred.shape[0]\n",
        "        samples_num += y_pred.shape[0]\n",
        "\n",
        "    if samples_num == 0:\n",
        "        return model, 0.0, 0.0\n",
        "\n",
        "    return model, total_loss / samples_num, total_accuracy / samples_num"
      ]
    },
    {
      "cell_type": "markdown",
      "metadata": {
        "id": "H9MiJpbXx0NF"
      },
      "source": [
        "10. Prepare training loop (over epochs) function:\n",
        "- adjust max number of epochs to achieve satisfactory results.\n",
        "- `**` additionally, implement auto-detection of bias-variance tradeoff point, to break further training.\n",
        "- `***` additionally, use learning rate scheduler.\n",
        "- for each epoch collect losses and accuracies for both datasets."
      ]
    },
    {
      "cell_type": "code",
      "execution_count": 76,
      "metadata": {
        "id": "eYVXR9e-x0NJ"
      },
      "outputs": [],
      "source": [
        " def train_loop(model,\n",
        "               train_loader,\n",
        "               test_loader,\n",
        "               criterion,\n",
        "               metric: BaseMetic,\n",
        "               optimizer: torch.optim.Optimizer = None,\n",
        "               num_epochs: int = 100,\n",
        "               device=torch.device('cpu')):\n",
        "\n",
        "    train_losses = []\n",
        "    train_accuracies = []\n",
        "    test_loses = []\n",
        "    test_accuracies = []\n",
        "\n",
        "    best_test_accuracy = 0.0\n",
        "\n",
        "    early_stopping_counter = 0\n",
        "    early_stopping_patience = 10\n",
        "\n",
        "    #  threshold for auto-detection of bias-variance tradeoff\n",
        "    tradeoff_threshold = 0.01\n",
        "\n",
        "    scheduler = torch.optim.lr_scheduler.ReduceLROnPlateau(\n",
        "        optimizer, mode='max', factor=0.1, patience=5, verbose=False)\n",
        "\n",
        "    for epoch in range(num_epochs):\n",
        "        print(f\"Epoch {epoch+1}/{num_epochs}\")\n",
        "\n",
        "        # train\n",
        "        model, train_loss, train_accuracy = train(model,\n",
        "                                                  train_loader,\n",
        "                                                  criterion,\n",
        "                                                  metric,\n",
        "                                                  mode='train',\n",
        "                                                  optimizer=optimizer,\n",
        "                                                  update_period=1,\n",
        "                                                  device=device)\n",
        "        train_losses.append(train_loss)\n",
        "        train_accuracies.append(train_accuracy)\n",
        "\n",
        "        # test\n",
        "        model, test_loss, test_accuracy = train(model,\n",
        "                                                test_loader,\n",
        "                                                criterion,\n",
        "                                                metric,\n",
        "                                                mode='test',\n",
        "                                                device=device)\n",
        "        test_loses.append(test_loss)\n",
        "        test_accuracies.append(test_accuracy)\n",
        "\n",
        "        # update scheduler\n",
        "        scheduler.step(test_accuracy)\n",
        "\n",
        "        # results\n",
        "        print(f\"Train loss: {train_loss:.4f}, Train accuracy: {train_accuracy:.4f}\")\n",
        "        print(f\"Test loss: {test_loss:.4f}, Test accuracy: {test_accuracy:.4f}\")\n",
        "\n",
        "        # auto-detection of bias-variance tradeoff\n",
        "        if epoch > 0:\n",
        "            if test_accuracy - best_test_accuracy < tradeoff_threshold:\n",
        "                early_stopping_counter += 1\n",
        "            else:\n",
        "                early_stopping_counter = 0\n",
        "\n",
        "        if early_stopping_counter >= early_stopping_patience:\n",
        "            print(f\"Early stopping on epoch {epoch+1}\")\n",
        "            break\n",
        "\n",
        "        if test_accuracy > best_test_accuracy:\n",
        "            best_test_accuracy = test_accuracy\n",
        "            print(f\"Best test accuracy: {best_test_accuracy:.4f}\")\n",
        "\n",
        "    return train_losses, train_accuracies, test_loses, test_accuracies"
      ]
    },
    {
      "cell_type": "markdown",
      "metadata": {
        "id": "Wr0Twy9xx0NW"
      },
      "source": [
        "11. Display training history."
      ]
    },
    {
      "cell_type": "code",
      "execution_count": null,
      "metadata": {
        "colab": {
          "base_uri": "https://localhost:8080/"
        },
        "id": "7Jq1zKlux0Na",
        "outputId": "89b8384f-e56a-4f0a-fda9-809d3258e63f"
      },
      "outputs": [
        {
          "output_type": "stream",
          "name": "stdout",
          "text": [
            "Epoch 1/20\n",
            "Train loss: 2.3003, Train accuracy: 0.1426\n",
            "Test loss: 2.2975, Test accuracy: 0.2054\n",
            "Best test accuracy: 0.2054\n",
            "Epoch 2/20\n",
            "Train loss: 2.2935, Train accuracy: 0.2354\n",
            "Test loss: 2.2874, Test accuracy: 0.2417\n",
            "Best test accuracy: 0.2417\n",
            "Epoch 3/20\n",
            "Train loss: 2.2683, Train accuracy: 0.1900\n",
            "Test loss: 2.2358, Test accuracy: 0.2247\n",
            "Epoch 4/20\n",
            "Train loss: 2.1848, Train accuracy: 0.3580\n",
            "Test loss: 2.1044, Test accuracy: 0.4512\n",
            "Best test accuracy: 0.4512\n",
            "Epoch 5/20\n",
            "Train loss: 2.0065, Train accuracy: 0.5142\n",
            "Test loss: 1.9167, Test accuracy: 0.6392\n",
            "Best test accuracy: 0.6392\n",
            "Epoch 6/20\n",
            "Train loss: 1.8688, Train accuracy: 0.6504\n",
            "Test loss: 1.8316, Test accuracy: 0.6654\n",
            "Best test accuracy: 0.6654\n",
            "Epoch 7/20\n",
            "Train loss: 1.8124, Train accuracy: 0.6803\n",
            "Test loss: 1.7619, Test accuracy: 0.7870\n",
            "Best test accuracy: 0.7870\n",
            "Epoch 8/20\n",
            "Train loss: 1.7340, Train accuracy: 0.7953\n",
            "Test loss: 1.7015, Test accuracy: 0.8152\n",
            "Best test accuracy: 0.8152\n",
            "Epoch 9/20\n",
            "Train loss: 1.6935, Train accuracy: 0.8109\n",
            "Test loss: 1.6738, Test accuracy: 0.8241\n",
            "Best test accuracy: 0.8241\n",
            "Epoch 10/20\n",
            "Train loss: 1.6727, Train accuracy: 0.8194\n",
            "Test loss: 1.6583, Test accuracy: 0.8307\n",
            "Best test accuracy: 0.8307\n",
            "Epoch 11/20\n",
            "Train loss: 1.6601, Train accuracy: 0.8248\n",
            "Test loss: 1.6488, Test accuracy: 0.8342\n",
            "Best test accuracy: 0.8342\n",
            "Epoch 12/20\n",
            "Train loss: 1.6518, Train accuracy: 0.8282\n",
            "Test loss: 1.6424, Test accuracy: 0.8355\n",
            "Best test accuracy: 0.8355\n",
            "Epoch 13/20\n",
            "Train loss: 1.6456, Train accuracy: 0.8314\n",
            "Test loss: 1.6371, Test accuracy: 0.8379\n",
            "Best test accuracy: 0.8379\n",
            "Epoch 14/20\n",
            "Train loss: 1.6410, Train accuracy: 0.8341\n",
            "Test loss: 1.6332, Test accuracy: 0.8393\n",
            "Best test accuracy: 0.8393\n",
            "Epoch 15/20\n",
            "Train loss: 1.6372, Train accuracy: 0.8365\n",
            "Test loss: 1.6302, Test accuracy: 0.8408\n",
            "Best test accuracy: 0.8408\n",
            "Epoch 16/20\n",
            "Train loss: 1.6341, Train accuracy: 0.8387\n",
            "Test loss: 1.6280, Test accuracy: 0.8436\n",
            "Best test accuracy: 0.8436\n",
            "Epoch 17/20\n",
            "Train loss: 1.6316, Train accuracy: 0.8400\n",
            "Test loss: 1.6255, Test accuracy: 0.8443\n",
            "Best test accuracy: 0.8443\n",
            "Epoch 18/20\n",
            "Train loss: 1.6293, Train accuracy: 0.8418\n",
            "Test loss: 1.6235, Test accuracy: 0.8460\n",
            "Early stopping on epoch 18\n",
            "Final test accuracy: 0.846\n",
            "Final test loss: 1.6234660104751586\n",
            "Final train accuracy: 0.8417666666666667\n",
            "Final train loss: 1.629333165105184\n"
          ]
        }
      ],
      "source": [
        "train_losses, train_accuracies, test_losses, test_accuracies = train_loop(net,\n",
        "                                                                          train_loader,\n",
        "                                                                          test_loader,\n",
        "                                                                          loss_fcn,\n",
        "                                                                          metric,\n",
        "                                                                          optimizer,\n",
        "                                                                          num_epochs=20,\n",
        "                                                                          device=device)\n",
        "print(f\"Final test accuracy: {test_accuracies[-1]}\")\n",
        "print(f\"Final test loss: {test_losses[-1]}\")\n",
        "print(f\"Final train accuracy: {train_accuracies[-1]}\")\n",
        "print(f\"Final train loss: {train_losses[-1]}\")"
      ]
    },
    {
      "cell_type": "code",
      "execution_count": null,
      "metadata": {
        "colab": {
          "base_uri": "https://localhost:8080/"
        },
        "id": "kpcQwgOHx0Ng",
        "outputId": "143e62a7-c708-4051-bc3e-f7257685b613"
      },
      "outputs": [
        {
          "output_type": "stream",
          "name": "stdout",
          "text": [
            "Best test accuracy: 0.846\n",
            "Best test loss: 1.6234660104751586\n",
            "Best train accuracy: 0.8417666666666667\n",
            "Best train loss: 1.629333165105184\n"
          ]
        }
      ],
      "source": [
        "# best test accuracy, best test loss, best train accuracy, best train loss\n",
        "print(f\"Best test accuracy: {max(test_accuracies)}\")\n",
        "print(f\"Best test loss: {min(test_losses)}\")\n",
        "print(f\"Best train accuracy: {max(train_accuracies)}\")\n",
        "print(f\"Best train loss: {min(train_losses)}\")"
      ]
    },
    {
      "cell_type": "code",
      "execution_count": 101,
      "metadata": {
        "colab": {
          "base_uri": "https://localhost:8080/",
          "height": 887
        },
        "id": "rsJiqvaA2Stc",
        "outputId": "9a883094-bcd7-4eb9-8b91-f236e0608914"
      },
      "outputs": [
        {
          "output_type": "display_data",
          "data": {
            "text/plain": [
              "<Figure size 640x480 with 1 Axes>"
            ],
            "image/png": "[encoded data removed]"
          },
          "metadata": {}
        },
        {
          "output_type": "display_data",
          "data": {
            "text/plain": [
              "<Figure size 640x480 with 1 Axes>"
            ],
            "image/png": "[encoded data removed]"
          },
          "metadata": {}
        }
      ],
      "source": [
        "# plot accuracy test vs train and loss test vs train\n",
        "import matplotlib.pyplot as plt\n",
        "# plot accuracy\n",
        "plt.title('Accuracy')\n",
        "plt.plot(train_accuracies, label='train')\n",
        "plt.plot(test_accuracies, label='test')\n",
        "plt.legend()\n",
        "plt.show()\n",
        "\n",
        "# plot loss\n",
        "plt.title('Loss')\n",
        "plt.plot(train_losses, label='train')\n",
        "plt.plot(test_losses, label='test')\n",
        "plt.legend()\n",
        "plt.show()"
      ]
    },
    {
      "cell_type": "markdown",
      "metadata": {
        "id": "PAPVbPNgx0Nl"
      },
      "source": [
        "12. Save model and optimizer states to files.\n",
        "\n",
        "Use method `state_dict` and function `torch.save`."
      ]
    },
    {
      "cell_type": "code",
      "execution_count": null,
      "metadata": {
        "id": "-0uM9TGjx0Np"
      },
      "outputs": [],
      "source": [
        "import os\n",
        "# create directory for saving model and optimizer states\n",
        "if not os.path.exists('model'):\n",
        "    os.makedirs('model')\n",
        "\n",
        "net_path = os.path.join('model', 'net.pth')\n",
        "optimizer_path = os.path.join('model', 'optimizer.pth')\n",
        "\n",
        "torch.save(net.state_dict(), net_path)\n",
        "torch.save(optimizer.state_dict(), optimizer_path)"
      ]
    },
    {
      "cell_type": "markdown",
      "metadata": {
        "id": "bpByyt-vx0Nv"
      },
      "source": [
        "13. Create new network with the same architecture and initialize it with saved weights.\n",
        "\n",
        "`torch.load`, `load_state_dict`."
      ]
    },
    {
      "cell_type": "code",
      "execution_count": null,
      "metadata": {
        "id": "M3MKNkh3x0Nz",
        "colab": {
          "base_uri": "https://localhost:8080/"
        },
        "outputId": "41ff5781-1fd9-46b5-e026-da6d32223ef6"
      },
      "outputs": [
        {
          "output_type": "execute_result",
          "data": {
            "text/plain": [
              "<All keys matched successfully>"
            ]
          },
          "metadata": {},
          "execution_count": 17
        }
      ],
      "source": [
        "# 13. Create new network with the same architecture and initialize it with saved weights.\n",
        "net2 = MLP(input_shape=(1, 28, 28), output_shape=10)\n",
        "saved_weights = torch.load(net_path)\n",
        "net2.load_state_dict(saved_weights)"
      ]
    },
    {
      "cell_type": "markdown",
      "metadata": {
        "id": "GbPrgxn_x0N4"
      },
      "source": [
        "14. Define your own model and train it.\n",
        "\n",
        "Try achieve better results.\n",
        "\n",
        "You can use different parameters, layers e.g.:\n",
        "- conv2d\n",
        "- maxpooling2d\n",
        "- batch norm 2d\n",
        "- and more...\n",
        "\n",
        "Save weights to file."
      ]
    },
    {
      "cell_type": "code",
      "execution_count": 97,
      "metadata": {
        "id": "dSBmOqHzx0N9"
      },
      "outputs": [],
      "source": [
        "class myMLP(torch.nn.Module):\n",
        "    def __init__(self, input_shape, output_shape, num_filters, kernel_size) -> None:\n",
        "        super().__init__()\n",
        "\n",
        "        # define layers\n",
        "        self.num_filters = num_filters\n",
        "        self.kernel_size = kernel_size\n",
        "        self.input_shape = input_shape\n",
        "\n",
        "        self.conv1 =torch.nn.Conv2d(input_shape[0], num_filters, kernel_size, stride=1, padding=1)\n",
        "        self.bn1 =torch.nn.BatchNorm2d(num_filters)\n",
        "        self.relu1 =torch.nn.ReLU()\n",
        "        self.maxpool1 =torch.nn.MaxPool2d(kernel_size=2, stride=2)\n",
        "\n",
        "        self.conv2 =torch.nn.Conv2d(num_filters, num_filters*2, kernel_size, stride=1, padding=1)\n",
        "        self.bn2 =torch.nn.BatchNorm2d(num_filters*2)\n",
        "        self.relu2 =torch.nn.ReLU()\n",
        "        self.maxpool2 =torch.nn.MaxPool2d(kernel_size=2, stride=2)\n",
        "\n",
        "        self.fc =torch.nn.Linear(num_filters*2 * (input_shape[1] // 4) * (input_shape[2] // 4), output_shape)\n",
        "        self.softmax =torch.nn.Softmax(dim=1)\n",
        "\n",
        "    def forward(self, x: torch.Tensor) -> torch.Tensor:\n",
        "        x = self.conv1(x)\n",
        "        x = self.bn1(x)\n",
        "        x = self.relu1(x)\n",
        "        x = self.maxpool1(x)\n",
        "\n",
        "        x = self.conv2(x)\n",
        "        x = self.bn2(x)\n",
        "        x = self.relu2(x)\n",
        "        x = self.maxpool2(x)\n",
        "\n",
        "        x = x.view(x.size(0), -1)\n",
        "        x = self.fc(x)\n",
        "        x = self.softmax(x)\n",
        "        return x"
      ]
    },
    {
      "cell_type": "code",
      "execution_count": 98,
      "metadata": {
        "id": "-5oydqdrx0OC"
      },
      "outputs": [],
      "source": [
        "# define myMLP model\n",
        "input_shape = (1, 28, 28)\n",
        "output_shape = 10\n",
        "num_filters = 16\n",
        "kernel_size = 3\n",
        "my_net = myMLP(input_shape, output_shape, num_filters, kernel_size)\n",
        "\n",
        "# new optimizer\n",
        "my_optimizer = torch.optim.SGD(my_net.parameters(), lr=0.01)\n"
      ]
    },
    {
      "cell_type": "code",
      "execution_count": 99,
      "metadata": {
        "id": "TBG5G4wEx0OH",
        "colab": {
          "base_uri": "https://localhost:8080/"
        },
        "outputId": "84765be0-53d2-474f-fec8-0f2b0fc864e6"
      },
      "outputs": [
        {
          "output_type": "stream",
          "name": "stdout",
          "text": [
            "Epoch 1/20\n",
            "Train loss: 1.7483, Train accuracy: 0.7615\n",
            "Test loss: 1.6112, Test accuracy: 0.8698\n",
            "Best test accuracy: 0.8698\n",
            "Epoch 2/20\n",
            "Train loss: 1.5585, Train accuracy: 0.9272\n",
            "Test loss: 1.5154, Test accuracy: 0.9662\n",
            "Best test accuracy: 0.9662\n",
            "Epoch 3/20\n",
            "Train loss: 1.5122, Train accuracy: 0.9662\n",
            "Test loss: 1.5034, Test accuracy: 0.9718\n",
            "Best test accuracy: 0.9718\n",
            "Epoch 4/20\n",
            "Train loss: 1.5024, Train accuracy: 0.9713\n",
            "Test loss: 1.4970, Test accuracy: 0.9748\n",
            "Best test accuracy: 0.9748\n",
            "Epoch 5/20\n",
            "Train loss: 1.4970, Train accuracy: 0.9747\n",
            "Test loss: 1.4927, Test accuracy: 0.9773\n",
            "Best test accuracy: 0.9773\n",
            "Epoch 6/20\n",
            "Train loss: 1.4933, Train accuracy: 0.9773\n",
            "Test loss: 1.4906, Test accuracy: 0.9789\n",
            "Best test accuracy: 0.9789\n",
            "Epoch 7/20\n",
            "Train loss: 1.4907, Train accuracy: 0.9788\n",
            "Test loss: 1.4889, Test accuracy: 0.9784\n",
            "Epoch 8/20\n",
            "Train loss: 1.4886, Train accuracy: 0.9801\n",
            "Test loss: 1.4869, Test accuracy: 0.9814\n",
            "Best test accuracy: 0.9814\n",
            "Epoch 9/20\n",
            "Train loss: 1.4871, Train accuracy: 0.9812\n",
            "Test loss: 1.4859, Test accuracy: 0.9815\n",
            "Best test accuracy: 0.9815\n",
            "Epoch 10/20\n",
            "Train loss: 1.4856, Train accuracy: 0.9824\n",
            "Test loss: 1.4855, Test accuracy: 0.9807\n",
            "Epoch 11/20\n",
            "Train loss: 1.4844, Train accuracy: 0.9833\n",
            "Test loss: 1.4842, Test accuracy: 0.9830\n",
            "Best test accuracy: 0.9830\n",
            "Epoch 12/20\n",
            "Train loss: 1.4835, Train accuracy: 0.9835\n",
            "Test loss: 1.4833, Test accuracy: 0.9837\n",
            "Early stopping on epoch 12\n"
          ]
        }
      ],
      "source": [
        "# train myMLP model\n",
        "my_train_losses, my_train_accuracies, my_test_losses, my_test_accuracies = train_loop(my_net,\n",
        "                                                                                      train_loader,\n",
        "                                                                                      test_loader,\n",
        "                                                                                      loss_fcn,\n",
        "                                                                                      metric,\n",
        "                                                                                      my_optimizer,\n",
        "                                                                                      num_epochs=20,\n",
        "                                                                                      device=device)\n"
      ]
    },
    {
      "cell_type": "code",
      "execution_count": 100,
      "metadata": {
        "id": "1ZWHqPrd1vQY",
        "colab": {
          "base_uri": "https://localhost:8080/"
        },
        "outputId": "adf6ce4d-495a-4fe6-9975-6a561af10159"
      },
      "outputs": [
        {
          "output_type": "stream",
          "name": "stdout",
          "text": [
            "Final test accuracy: 0.9837\n",
            "Final test loss: 1.4833051399230957\n",
            "Final train accuracy: 0.9834833333333334\n",
            "Final train loss: 1.483500359471639\n",
            "Best test accuracy: 0.9837\n",
            "Best test loss: 1.4833051399230957\n",
            "Best train accuracy: 0.9834833333333334\n",
            "Best train loss: 1.483500359471639\n"
          ]
        }
      ],
      "source": [
        "print(f\"Final test accuracy: {my_test_accuracies[-1]}\")\n",
        "print(f\"Final test loss: {my_test_losses[-1]}\")\n",
        "print(f\"Final train accuracy: {my_train_accuracies[-1]}\")\n",
        "print(f\"Final train loss: {my_train_losses[-1]}\")\n",
        "\n",
        "# best test accuracy, best test loss, best train accuracy, best train loss\n",
        "print(f\"Best test accuracy: {max(my_test_accuracies)}\")\n",
        "print(f\"Best test loss: {min(my_test_losses)}\")\n",
        "print(f\"Best train accuracy: {max(my_train_accuracies)}\")\n",
        "print(f\"Best train loss: {min(my_train_losses)}\")"
      ]
    },
    {
      "cell_type": "code",
      "source": [
        "# plot accuracy\n",
        "plt.title('Accuracy')\n",
        "plt.plot(my_train_accuracies, label='train')\n",
        "plt.plot(my_test_accuracies, label='test')\n",
        "plt.legend()\n",
        "plt.show()\n",
        "\n",
        "# plot loss\n",
        "plt.title('Loss')\n",
        "plt.plot(my_train_losses, label='train')\n",
        "plt.plot(my_test_losses, label='test')\n",
        "plt.legend()\n",
        "plt.show()"
      ],
      "metadata": {
        "colab": {
          "base_uri": "https://localhost:8080/",
          "height": 887
        },
        "id": "dTJTSPfQHjqj",
        "outputId": "d220e569-94ea-4543-b152-3a3b342c26da"
      },
      "execution_count": 103,
      "outputs": [
        {
          "output_type": "display_data",
          "data": {
            "text/plain": [
              "<Figure size 640x480 with 1 Axes>"
            ],
            "image/png": "[encoded data removed]"
          },
          "metadata": {}
        },
        {
          "output_type": "display_data",
          "data": {
            "text/plain": [
              "<Figure size 640x480 with 1 Axes>"
            ],
            "image/png": "[encoded data removed]"
          },
          "metadata": {}
        }
      ]
    },
    {
      "cell_type": "code",
      "execution_count": 107,
      "metadata": {
        "id": "rpjJc-UMDckS"
      },
      "outputs": [],
      "source": [
        "import os\n",
        "# create directory for saving model and optimizer states\n",
        "if not os.path.exists('model'):\n",
        "    os.makedirs('model')\n",
        "\n",
        "net_path = os.path.join('model', 'my_net.pth')\n",
        "optimizer_path = os.path.join('model', 'my_optimizer.pth')\n",
        "\n",
        "torch.save(my_net.state_dict(), net_path)\n",
        "torch.save(my_optimizer.state_dict(), optimizer_path)"
      ]
    },
    {
      "cell_type": "code",
      "execution_count": 108,
      "metadata": {
        "id": "UNgTV7HxD7BA",
        "colab": {
          "base_uri": "https://localhost:8080/"
        },
        "outputId": "6f2e6b67-53fb-4c07-d9aa-6aedca2c6805"
      },
      "outputs": [
        {
          "output_type": "stream",
          "name": "stdout",
          "text": [
            "Mounted at /content/drive\n"
          ]
        }
      ],
      "source": [
        "from google.colab import drive\n",
        "drive.mount('/content/drive')"
      ]
    },
    {
      "cell_type": "markdown",
      "metadata": {
        "id": "8-9XTZkrx0OV"
      },
      "source": [
        "15. You can leave a feedback, if you want :)"
      ]
    },
    {
      "cell_type": "markdown",
      "metadata": {
        "id": "ir2MQeM2x0OY"
      },
      "source": [
        "OUTDATED: Unfortunately after trying multiple new-defined models and new optimizers I was unable to train a model to outperform the template model provided at the begining of the jupyter notebook (MLP model).\n",
        "\n",
        "Update 28 June:\n",
        "I was able to train my own defined network, which achieves the following statistics:\n",
        "Train loss: 1.4835, Train accuracy: 0.9835\n",
        "Test loss: 1.4833, Test accuracy: 0.9837\n",
        "It is worth mentioning that these statistics were achieved with an early stop at epoch 12 due to the setting of the early_stopping_patience parameter, but it would probably be even better with subsequent epochs.\n",
        "\n",
        "The previous problems were due to the lack of definition of a new optimizer for the new network and the previously defined optimizer for the previous network was used.\n",
        "\n",
        "This line was missing (optimizer was used):\n",
        "\n",
        "my_optimizer = torch.optim.SGD(my_net.parameters(), lr=0.01)"
      ]
    },
    {
      "cell_type": "markdown",
      "metadata": {
        "id": "aMCfDA8Ux0Oc"
      },
      "source": [
        "16. Send your results(notebook+weights) in a *.zip file by e-mail\n",
        "\n",
        "or (preferred) send link to your's github (public) repository with your results."
      ]
    },
    {
      "cell_type": "markdown",
      "metadata": {
        "id": "dLuG4ibUx0Of"
      },
      "source": []
    }
  ],
  "metadata": {
    "accelerator": "GPU",
    "colab": {
      "provenance": []
    },
    "kernelspec": {
      "display_name": "Python 3",
      "name": "python3"
    },
    "language_info": {
      "codemirror_mode": {
        "name": "ipython",
        "version": 3
      },
      "file_extension": ".py",
      "mimetype": "text/x-python",
      "name": "python",
      "nbconvert_exporter": "python",
      "pygments_lexer": "ipython3",
      "version": "3.8.10"
    },
    "vscode": {
      "interpreter": {
        "hash": "e7370f93d1d0cde622a1f8e1c04877d8463912d04d973331ad4851f04de6915a"
      }
    }
  },
  "nbformat": 4,
  "nbformat_minor": 0
}